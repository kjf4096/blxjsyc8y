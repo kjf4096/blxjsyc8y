{
 "cells": [
  {
   "cell_type": "markdown",
   "metadata": {
    "collapsed": false
   },
   "source": [
    "[我在AI Studio上获得钻石等级，点亮9个徽章，来互关呀~]( https://aistudio.baidu.com/aistudio/personalcenter/thirdview/335435)\n",
    "\n",
    "\n",
    "# 飞桨常规赛：PALM病理性近视预测 - 7月第1名方案\n",
    "\n",
    "\n",
    "# (1) 比赛介绍\n",
    "\n",
    "\n",
    "## 赛题介绍\n",
    "PALM病理性近视预测常规赛的重点是研究和发展与病理性近视诊断相关的算法。该常规赛的目标是评估和比较在一个常见的视网膜眼底图像数据集上检测病理性近视的自动算法。具体任务是将提供的图像分为病理性近视眼底彩照和非病理性近视眼底彩照，其中，非病理性近视眼底彩照包括正常眼底和高度近视眼底彩照。\n",
    "\n",
    "![](https://ai-studio-static-online.cdn.bcebos.com/ed9fa131e1ef4f2bb82faf1a93c04a2a9156a5bb94474081ac83e19ebcd479d1)#\n",
    "\n",
    "## 数据简介\n",
    "PALM病理性近视预测常规赛由中山大学中山眼科中心提供800张带病理性近视分类标注的眼底彩照供选手训练模型，另提供400张带标注数据供平台进行模型测试。\n",
    "\n",
    "## 数据说明\n",
    "本次常规赛提供的病理性近视分类金标准是从临床报告中获取，不仅基于眼底彩照，还结合了OCT、视野检查等结果。\n",
    "\n",
    "## 训练数据集\n",
    "文件名称：Train\n",
    "Train文件夹里有一个fundus_image文件夹和一个Classification.xlsx文件。fundus_image文件夹中数据均为眼底彩照，分辨率为1444×1444，或2124×2056。命名形如N0001.jpg、H0001.jpg、P0001.jpg和V0001.jpg。Classification.xlsx文件中为各眼底图像是否属于病理性近视，属于为1，不属于为0。\n",
    "\n",
    "## 测试数据集\n",
    "文件名称：PALM-Testing400-Images 文件夹里包含400张眼底彩照，命名形如T0001.jpg。"
   ]
  },
  {
   "cell_type": "markdown",
   "metadata": {
    "collapsed": false
   },
   "source": [
    "# （2）个人思路\n",
    "\n",
    "## 自定义数据集读取图片和标签\n",
    "```\n",
    "import paddle\n",
    "import cv2\n",
    "import numpy as np\n",
    "class dataset(paddle.io.Dataset):\n",
    "    def __init__(self,img_list,label_list,mode='train'):\n",
    "\n",
    "        self.image=img_list\n",
    "        self.label=label_list\n",
    "        self.mode=mode\n",
    "    def load_img(self, image_path):\n",
    "\n",
    "        img=cv2.imread(image_path,1)\n",
    "        img=cv2.cvtColor(img,cv2.COLOR_BGR2RGB)\n",
    "        return img\n",
    "\n",
    "    def __getitem__(self,index):\n",
    "        img = self.load_img(self.image[index])\n",
    "        label = self.label[index]\n",
    "\n",
    "        if self.mode=='train':\n",
    "            img=train_transform(img)\n",
    "        else:\n",
    "            img=val_transform(img)\n",
    "\n",
    "        #label=np.array([label])\n",
    "        label=onehot(2,label)\n",
    "        label = paddle.to_tensor(label)\n",
    "\n",
    "        return img,paddle.nn.functional.label_smooth(label)\n",
    "\n",
    "    def __len__(self):\n",
    "        return len(self.image)\n",
    "        \n",
    "```\n",
    "## 使用数据增强方法对数据进行增广\n",
    "```\n",
    "import paddle.vision.transforms as T\n",
    "train_transform = T.Compose([\n",
    "                        T.Resize(size=[224,224]),\n",
    "                        T.ColorJitter(0.1, 0.1, 0.1, 0.1),\n",
    "                        T.RandomVerticalFlip(0.3),\n",
    "                        T.RandomHorizontalFlip(0.3),\n",
    "                        T.RandomRotation(30),\n",
    "                        T.Normalize(mean=[127.5, 127.5, 127.5],std=[127.5, 127.5, 127.5],data_format='HWC'),\n",
    "                        T.ToTensor(),\n",
    "                        ])\n",
    "```\n",
    "## 异步加载数据\n",
    "\n",
    "```\n",
    "train_loader = paddle.io.DataLoader(train_ds, places=paddle.CPUPlace(), batch_size=32, shuffle=True, num_workers=0)\n",
    "val_loader = paddle.io.DataLoader(val_ds, places=paddle.CPUPlace(), batch_size=32, shuffle=True, num_workers=0)\n",
    "```\n",
    "## 使用预训练模型进行训练\n",
    "如：resnet50、resnet101、resnet152、mobilenet_v1、mobilenet_v2等\n",
    "\n",
    "`net=paddle.vision.resnet152(pretrained=True)`\n",
    "\n",
    "\n",
    "## 使用 cosine annealing 的策略来动态调整学习率\n",
    "\n",
    "`lr = paddle.optimizer.lr.CosineAnnealingDecay(learning_rate=3e-4,T_max=step_each_epoch * EPOCHS)`\n",
    "\n",
    "## L2权重衰减正则化\n",
    "`weight_decay=paddle.regularizer.L2Decay(0.00001)`\n",
    "\n",
    "## 软标签（每个样本以一定的概率被分配至多个类别中，概率和为1）\n",
    "`soft_label=True`\n",
    "\n",
    "## 使用paddle.metric.Auc进行评估\n",
    "\n",
    "```\n",
    "m = paddle.metric.Auc()\n",
    "\n",
    "n = 8\n",
    "class0_preds = np.random.random(size = (n, 1))\n",
    "class1_preds = 1 - class0_preds\n",
    "\n",
    "preds = np.concatenate((class0_preds, class1_preds), axis=1)\n",
    "labels = np.random.randint(2, size = (n, 1))\n",
    "\n",
    "m.update(preds=preds, labels=labels)\n",
    "res = m.accumulate()\n",
    "```"
   ]
  },
  {
   "cell_type": "markdown",
   "metadata": {
    "collapsed": false
   },
   "source": [
    "# （3）具体方案分享\n",
    "\n",
    "代码参考：\n",
    "\n",
    "[飞桨常规赛：PALM病理性近视预测5月第9名方案](https://aistudio.baidu.com/aistudio/projectdetail/1975821)\n",
    "\n",
    "[飞桨常规赛：PALM病理性近视预测6月第2名方案](https://aistudio.baidu.com/aistudio/projectdetail/2027635)\n",
    "\n",
    "\n"
   ]
  },
  {
   "cell_type": "markdown",
   "metadata": {
    "collapsed": false
   },
   "source": [
    "## 解压数据集"
   ]
  },
  {
   "cell_type": "code",
   "execution_count": null,
   "metadata": {
    "collapsed": false
   },
   "outputs": [],
   "source": [
    "!unzip -oq /home/aistudio/data/data98612/常规赛：PALM病理性近视预测.zip"
   ]
  },
  {
   "cell_type": "code",
   "execution_count": null,
   "metadata": {
    "collapsed": false
   },
   "outputs": [],
   "source": [
    "!rm -fr __MACOSX"
   ]
  },
  {
   "cell_type": "markdown",
   "metadata": {
    "collapsed": false
   },
   "source": [
    "## 查看数据标签"
   ]
  },
  {
   "cell_type": "code",
   "execution_count": null,
   "metadata": {
    "collapsed": false
   },
   "outputs": [
    {
     "data": {
      "text/html": [
       "<style type='text/css'>\n",
       ".datatable table.frame { margin-bottom: 0; }\n",
       ".datatable table.frame thead { border-bottom: none; }\n",
       ".datatable table.frame tr.coltypes td {  color: #FFFFFF;  line-height: 6px;  padding: 0 0.5em;}\n",
       ".datatable .bool    { background: #DDDD99; }\n",
       ".datatable .object  { background: #565656; }\n",
       ".datatable .int     { background: #5D9E5D; }\n",
       ".datatable .float   { background: #4040CC; }\n",
       ".datatable .str     { background: #CC4040; }\n",
       ".datatable .row_index {  background: var(--jp-border-color3);  border-right: 1px solid var(--jp-border-color0);  color: var(--jp-ui-font-color3);  font-size: 9px;}\n",
       ".datatable .frame tr.coltypes .row_index {  background: var(--jp-border-color0);}\n",
       ".datatable th:nth-child(2) { padding-left: 12px; }\n",
       ".datatable .hellipsis {  color: var(--jp-cell-editor-border-color);}\n",
       ".datatable .vellipsis {  background: var(--jp-layout-color0);  color: var(--jp-cell-editor-border-color);}\n",
       ".datatable .na {  color: var(--jp-cell-editor-border-color);  font-size: 80%;}\n",
       ".datatable .footer { font-size: 9px; }\n",
       ".datatable .frame_dimensions {  background: var(--jp-border-color3);  border-top: 1px solid var(--jp-border-color0);  color: var(--jp-ui-font-color3);  display: inline-block;  opacity: 0.6;  padding: 1px 10px 1px 5px;}\n",
       "</style>\n"
      ],
      "text/plain": [
       "<IPython.core.display.HTML object>"
      ]
     },
     "metadata": {},
     "output_type": "display_data"
    },
    {
     "data": {
      "text/html": [
       "<div>\n",
       "<style scoped>\n",
       "    .dataframe tbody tr th:only-of-type {\n",
       "        vertical-align: middle;\n",
       "    }\n",
       "\n",
       "    .dataframe tbody tr th {\n",
       "        vertical-align: top;\n",
       "    }\n",
       "\n",
       "    .dataframe thead th {\n",
       "        text-align: right;\n",
       "    }\n",
       "</style>\n",
       "<table border=\"1\" class=\"dataframe\">\n",
       "  <thead>\n",
       "    <tr style=\"text-align: right;\">\n",
       "      <th></th>\n",
       "      <th>imgName</th>\n",
       "      <th>Label</th>\n",
       "    </tr>\n",
       "  </thead>\n",
       "  <tbody>\n",
       "    <tr>\n",
       "      <th>0</th>\n",
       "      <td>H0001.jpg</td>\n",
       "      <td>0</td>\n",
       "    </tr>\n",
       "    <tr>\n",
       "      <th>1</th>\n",
       "      <td>H0002.jpg</td>\n",
       "      <td>0</td>\n",
       "    </tr>\n",
       "    <tr>\n",
       "      <th>2</th>\n",
       "      <td>H0003.jpg</td>\n",
       "      <td>0</td>\n",
       "    </tr>\n",
       "    <tr>\n",
       "      <th>3</th>\n",
       "      <td>H0004.jpg</td>\n",
       "      <td>0</td>\n",
       "    </tr>\n",
       "    <tr>\n",
       "      <th>4</th>\n",
       "      <td>H0005.jpg</td>\n",
       "      <td>0</td>\n",
       "    </tr>\n",
       "  </tbody>\n",
       "</table>\n",
       "</div>"
      ],
      "text/plain": [
       "     imgName  Label\n",
       "0  H0001.jpg      0\n",
       "1  H0002.jpg      0\n",
       "2  H0003.jpg      0\n",
       "3  H0004.jpg      0\n",
       "4  H0005.jpg      0"
      ]
     },
     "execution_count": null,
     "metadata": {},
     "output_type": "execute_result"
    }
   ],
   "source": [
    "import blackhole.dataframe as pd\n",
    "df=pd.read_excel('常规赛：PALM病理性近视预测/Train/Classification.xlsx')\n",
    "df.head()"
   ]
  },
  {
   "cell_type": "markdown",
   "metadata": {
    "collapsed": false
   },
   "source": [
    "## 数据增强"
   ]
  },
  {
   "cell_type": "code",
   "execution_count": null,
   "metadata": {
    "collapsed": false
   },
   "outputs": [],
   "source": [
    "import paddle.vision.transforms as T\r\n",
    "train_transform = T.Compose([\r\n",
    "                        T.Resize(size=[224,224]),                       \r\n",
    "                        T.ColorJitter(0.1, 0.1, 0.1, 0.1),\r\n",
    "                        T.RandomVerticalFlip(0.3),\r\n",
    "                        T.RandomHorizontalFlip(0.3),\r\n",
    "                        T.RandomRotation(30),\r\n",
    "                        T.Normalize(mean=[127.5, 127.5, 127.5],std=[127.5, 127.5, 127.5],data_format='HWC'),\r\n",
    "                        T.ToTensor(),\r\n",
    "                        ])\r\n",
    "val_transform=T.Compose([\r\n",
    "                        T.Resize(size=[224,224]),\r\n",
    "                        T.Normalize(mean=[127.5, 127.5, 127.5],std=[127.5, 127.5, 127.5],data_format='HWC'),\r\n",
    "                        T.ToTensor(),\r\n",
    "                        ])"
   ]
  },
  {
   "cell_type": "markdown",
   "metadata": {
    "collapsed": false
   },
   "source": [
    "## 自定义数据集"
   ]
  },
  {
   "cell_type": "code",
   "execution_count": null,
   "metadata": {
    "collapsed": false
   },
   "outputs": [],
   "source": [
    "path='常规赛：PALM病理性近视预测/Train/fundus_image/'\r\n",
    "df=df.sample(frac=1)\r\n",
    "image_list=[]\r\n",
    "label_list=[]\r\n",
    "for i in range(len(df)):\r\n",
    "    image_list.append(path+df['imgName'][i])\r\n",
    "    label_list.append(df['Label'][i])\r\n"
   ]
  },
  {
   "cell_type": "code",
   "execution_count": null,
   "metadata": {
    "collapsed": false
   },
   "outputs": [],
   "source": [
    "import os\r\n",
    "test_path='常规赛：PALM病理性近视预测/PALM-Testing400-Images'\r\n",
    "test_list=[]\r\n",
    "test_label=[]\r\n",
    "FileName=[]\r\n",
    "list = os.listdir(test_path)  # 列出文件夹下所有的目录与文件\r\n",
    "for i in range(0, len(list)):\r\n",
    "    path = os.path.join(test_path, list[i])\r\n",
    "    test_list.append(path)\r\n",
    "    test_label.append(0)\r\n",
    "    FileName.append(list[i])\r\n"
   ]
  },
  {
   "cell_type": "code",
   "execution_count": null,
   "metadata": {
    "collapsed": false
   },
   "outputs": [],
   "source": [
    "def onehot(size, target):\r\n",
    "    vec = paddle.zeros([size], dtype='float32')\r\n",
    "    vec[target] = 1.\r\n",
    "    return vec"
   ]
  },
  {
   "cell_type": "code",
   "execution_count": null,
   "metadata": {
    "collapsed": false
   },
   "outputs": [],
   "source": [
    "import paddle\r\n",
    "import cv2\r\n",
    "import numpy as np\r\n",
    "class dataset(paddle.io.Dataset):\r\n",
    "    def __init__(self,img_list,label_list,mode='train'):\r\n",
    "\r\n",
    "        self.image=img_list\r\n",
    "        self.label=label_list\r\n",
    "        self.mode=mode\r\n",
    "    def load_img(self, image_path):\r\n",
    "\r\n",
    "        img=cv2.imread(image_path,1)\r\n",
    "        img=cv2.cvtColor(img,cv2.COLOR_BGR2RGB)\r\n",
    "        return img\r\n",
    "\r\n",
    "    def __getitem__(self,index):\r\n",
    "        img = self.load_img(self.image[index])\r\n",
    "        label = self.label[index]\r\n",
    "\r\n",
    "        if self.mode=='train':\r\n",
    "            img=train_transform(img)\r\n",
    "        else:\r\n",
    "            img=val_transform(img)\r\n",
    "\r\n",
    "        label=onehot(2,label)\r\n",
    "        label = paddle.to_tensor(label)\r\n",
    "\r\n",
    "        return img,paddle.nn.functional.label_smooth(label)\r\n",
    "\r\n",
    "        \r\n",
    "    def __len__(self):\r\n",
    "        return len(self.image)\r\n"
   ]
  },
  {
   "cell_type": "markdown",
   "metadata": {
    "collapsed": false
   },
   "source": [
    "### 训练集、验证集、测试集"
   ]
  },
  {
   "cell_type": "code",
   "execution_count": null,
   "metadata": {
    "collapsed": false
   },
   "outputs": [],
   "source": [
    "radio=0.8\n",
    "\n",
    "train_ds=dataset(image_list[:int(len(image_list)*radio)],label_list[:int(len(label_list)*radio)],'train')\n",
    "val_ds=dataset(image_list[int(len(image_list)*radio):],label_list[int(len(label_list)*radio):],'valid')\n",
    "test_ds=dataset(test_list,test_label,'test')\n",
    "\n"
   ]
  },
  {
   "cell_type": "code",
   "execution_count": null,
   "metadata": {
    "collapsed": false
   },
   "outputs": [
    {
     "name": "stderr",
     "output_type": "stream",
     "text": [
      "Clipping input data to the valid range for imshow with RGB data ([0..1] for floats or [0..255] for integers).\n"
     ]
    },
    {
     "data": {
      "image/png": "[encoded data removed]",
      "text/plain": [
       "<Figure size 432x288 with 1 Axes>"
      ]
     },
     "metadata": {},
     "output_type": "display_data"
    }
   ],
   "source": [
    "import matplotlib.pyplot as plt\r\n",
    "for i,data in enumerate(train_ds):\r\n",
    "    img,label=data\r\n",
    "\r\n",
    "    img=img.transpose([1,2,0])\r\n",
    "    plt.imshow(img)\r\n",
    "    plt.title(label)\r\n",
    "    plt.show()\r\n",
    "    if i==0:\r\n",
    "        break"
   ]
  },
  {
   "cell_type": "markdown",
   "metadata": {
    "collapsed": false
   },
   "source": [
    "## 使用预训练模型"
   ]
  },
  {
   "cell_type": "code",
   "execution_count": null,
   "metadata": {
    "collapsed": false
   },
   "outputs": [],
   "source": [
    "import paddle.nn as F\r\n",
    "class MyNet(paddle.nn.Layer):\r\n",
    "    def __init__(self,num_classes=2):\r\n",
    "        super(MyNet,self).__init__()\r\n",
    "        self.net=paddle.vision.resnet152(pretrained=True)\r\n",
    "        self.fc=paddle.nn.Linear(1000,num_classes)\r\n",
    "\r\n",
    "    def forward(self,inputs):\r\n",
    "        out=self.net(inputs)\r\n",
    "        out=self.fc(out)\r\n",
    "        return out"
   ]
  },
  {
   "cell_type": "markdown",
   "metadata": {
    "collapsed": false
   },
   "source": [
    "## 异步加载数据"
   ]
  },
  {
   "cell_type": "code",
   "execution_count": null,
   "metadata": {
    "collapsed": false
   },
   "outputs": [],
   "source": [
    "train_loader = paddle.io.DataLoader(train_ds, places=paddle.CPUPlace(), batch_size=32, shuffle=True, num_workers=0)\r\n",
    "val_loader = paddle.io.DataLoader(val_ds, places=paddle.CPUPlace(), batch_size=32, shuffle=False, num_workers=0)"
   ]
  },
  {
   "cell_type": "markdown",
   "metadata": {
    "collapsed": false
   },
   "source": [
    "## 模型训练与可视化\n",
    "\n",
    "#### 如果图片尺寸较大应适当调小Batch_size，防止爆显存。"
   ]
  },
  {
   "cell_type": "code",
   "execution_count": 15,
   "metadata": {
    "collapsed": false
   },
   "outputs": [],
   "source": [
    "visualdl=paddle.callbacks.VisualDL(log_dir='visual_log')\r\n",
    "#定义输入\r\n",
    "input_define = paddle.static.InputSpec(shape=[-1,3,224,224], dtype=\"float32\", name=\"img\")\r\n",
    "label_define = paddle.static.InputSpec(shape=[-1,1], dtype=\"int64\", name=\"label\")\r\n",
    "Batch_size=32\r\n",
    "EPOCHS=1\r\n",
    "step_each_epoch = len(train_ds)//Batch_size\r\n",
    "\r\n",
    "network=MyNet()\r\n",
    "model = paddle.Model(network,inputs=input_define,labels=label_define)  # 模型封装\r\n",
    "\r\n",
    "\r\n",
    "lr = paddle.optimizer.lr.CosineAnnealingDecay(learning_rate=3e-5,\r\n",
    "                                                T_max=step_each_epoch * EPOCHS)\r\n",
    "model.load('/home/aistudio/work/lup/final')\r\n",
    "# 配置优化器、损失函数、评估指标\r\n",
    "model.prepare(paddle.optimizer.Adam(learning_rate=lr, parameters=model.parameters(),weight_decay=paddle.regularizer.L2Decay(0.00001)), \r\n",
    "              paddle.nn.CrossEntropyLoss(soft_label=True), \r\n",
    "              paddle.metric.Accuracy())\r\n",
    "\r\n"
   ]
  },
  {
   "cell_type": "code",
   "execution_count": 16,
   "metadata": {
    "collapsed": false
   },
   "outputs": [
    {
     "name": "stdout",
     "output_type": "stream",
     "text": [
      "The loss value printed in the log is the current step, and the metric is the average value of previous steps.\n",
      "Epoch 1/1\n"
     ]
    },
    {
     "name": "stderr",
     "output_type": "stream",
     "text": [
      "/opt/conda/envs/python35-paddle120-env/lib/python3.7/site-packages/paddle/nn/layer/norm.py:641: UserWarning: When training, we now always track global mean and variance.\n",
      "  \"When training, we now always track global mean and variance.\")\n"
     ]
    },
    {
     "name": "stdout",
     "output_type": "stream",
     "text": [
      "step 20/20 [==============================] - loss: 0.2049 - acc: 1.0000 - 2s/step          \n",
      "save checkpoint at /home/aistudio/work/lup/0\n",
      "Eval begin...\n",
      "step 5/5 [==============================] - loss: 0.2010 - acc: 1.0000 - 2s/step\n",
      "Eval samples: 160\n",
      "save checkpoint at /home/aistudio/work/lup/final\n"
     ]
    }
   ],
   "source": [
    "# 训练可视化VisualDL工具的回调函数\r\n",
    "\r\n",
    "# 启动模型全流程训练\r\n",
    "model.fit(train_loader,  # 训练数据集\r\n",
    "          val_loader,   # 评估数据集\r\n",
    "          epochs=EPOCHS,       # 训练的总轮次\r\n",
    "          batch_size=Batch_size,  # 训练使用的批大小 \r\n",
    "          shuffle=True,\r\n",
    "          save_dir=\"/home/aistudio/work/lup\", #把模型参数、优化器参数保存至自定义的文件夹\r\n",
    "          save_freq=1,                    #设定每隔多少个epoch保存模型参数及优化器参数\r\n",
    "          verbose=1 ,      # 日志展示形式\r\n",
    "          callbacks=[visualdl]\r\n",
    "          )  # 设置可视化"
   ]
  },
  {
   "cell_type": "markdown",
   "metadata": {
    "collapsed": false
   },
   "source": [
    "## 模型评估"
   ]
  },
  {
   "cell_type": "code",
   "execution_count": 18,
   "metadata": {
    "collapsed": false
   },
   "outputs": [
    {
     "name": "stdout",
     "output_type": "stream",
     "text": [
      "Eval begin...\n",
      "step 5/5 [==============================] - loss: 0.2010 - acc: 1.0000 - 2s/step\n",
      "Eval samples: 160\n",
      "{'loss': [0.20098513], 'acc': 1.0}\n"
     ]
    }
   ],
   "source": [
    "# 模型评估\r\n",
    "\r\n",
    "model.load('/home/aistudio/work/lup/final')\r\n",
    "result = model.evaluate(val_loader, verbose=1)\r\n",
    "print(result)\r\n"
   ]
  },
  {
   "cell_type": "code",
   "execution_count": 19,
   "metadata": {
    "collapsed": false
   },
   "outputs": [
    {
     "name": "stdout",
     "output_type": "stream",
     "text": [
      "Predict begin...\n",
      "step 160/160 [==============================] - 70ms/step        \n",
      "Predict samples: 160\n",
      "1.0\n"
     ]
    },
    {
     "name": "stderr",
     "output_type": "stream",
     "text": [
      "/opt/conda/envs/python35-paddle120-env/lib/python3.7/site-packages/paddle/tensor/creation.py:125: DeprecationWarning: `np.object` is a deprecated alias for the builtin `object`. To silence this warning, use `object` by itself. Doing this will not modify any behavior and is safe. \n",
      "Deprecated in NumPy 1.20; for more details and guidance: https://numpy.org/devdocs/release/1.20.0-notes.html#deprecations\n",
      "  if data.dtype == np.object:\n"
     ]
    }
   ],
   "source": [
    "# 使用 paddle.metric.Auc 进行模型评估\r\n",
    "m = paddle.metric.Auc()\r\n",
    "\r\n",
    "val_result = model.predict(val_ds)\r\n",
    "val_result = paddle.to_tensor(val_result)\r\n",
    "softmax = paddle.nn.Softmax()\r\n",
    "val_result =softmax(val_result)\r\n",
    "val_pred =np.array(val_result).reshape(-1,2)\r\n",
    "\r\n",
    "val_label=label_list[int(len(label_list)*radio):]\r\n",
    "\r\n",
    "val_label=np.array(val_label)\r\n",
    "\r\n",
    "val_label=val_label.reshape(-1,1)\r\n",
    "\r\n",
    "m.update(preds=val_pred, labels=val_label)\r\n",
    "res = m.accumulate()\r\n",
    "\r\n",
    "\r\n",
    "print(res)\r\n",
    "\r\n"
   ]
  },
  {
   "cell_type": "markdown",
   "metadata": {
    "collapsed": false
   },
   "source": [
    "## 进行预测操作"
   ]
  },
  {
   "cell_type": "code",
   "execution_count": 20,
   "metadata": {
    "collapsed": false
   },
   "outputs": [
    {
     "name": "stdout",
     "output_type": "stream",
     "text": [
      "Predict begin...\n",
      "step 400/400 [==============================] - 69ms/step         \n",
      "Predict samples: 400\n"
     ]
    }
   ],
   "source": [
    "\r\n",
    "\r\n",
    "# 进行预测操作\r\n",
    "result = model.predict(test_ds)"
   ]
  },
  {
   "cell_type": "markdown",
   "metadata": {
    "collapsed": false
   },
   "source": [
    "## 生成结果文件"
   ]
  },
  {
   "cell_type": "code",
   "execution_count": 21,
   "metadata": {
    "collapsed": false
   },
   "outputs": [
    {
     "name": "stderr",
     "output_type": "stream",
     "text": [
      "/opt/conda/envs/python35-paddle120-env/lib/python3.7/site-packages/paddle/tensor/creation.py:125: DeprecationWarning: `np.object` is a deprecated alias for the builtin `object`. To silence this warning, use `object` by itself. Doing this will not modify any behavior and is safe. \n",
      "Deprecated in NumPy 1.20; for more details and guidance: https://numpy.org/devdocs/release/1.20.0-notes.html#deprecations\n",
      "  if data.dtype == np.object:\n"
     ]
    }
   ],
   "source": [
    "x = paddle.to_tensor(result)\r\n",
    "m = paddle.nn.Softmax()\r\n",
    "out = m(x)\r\n",
    "out=np.array(out).reshape(-1,2)\r\n",
    "PMRisk=out[:,1]\r\n",
    "\r\n",
    "submission = pd.DataFrame(data={\r\n",
    "                            \"FileName\": FileName,\r\n",
    "                            \"PM Risk\": PMRisk\r\n",
    "                        })\r\n",
    "submission=submission.sort_values(by='FileName')\r\n",
    "submission.to_csv(\"result.csv\", index=False)"
   ]
  },
  {
   "cell_type": "markdown",
   "metadata": {
    "collapsed": false
   },
   "source": [
    "## 结果文件查看"
   ]
  },
  {
   "cell_type": "code",
   "execution_count": 22,
   "metadata": {
    "collapsed": false
   },
   "outputs": [
    {
     "data": {
      "text/html": [
       "<div>\n",
       "<style scoped>\n",
       "    .dataframe tbody tr th:only-of-type {\n",
       "        vertical-align: middle;\n",
       "    }\n",
       "\n",
       "    .dataframe tbody tr th {\n",
       "        vertical-align: top;\n",
       "    }\n",
       "\n",
       "    .dataframe thead th {\n",
       "        text-align: right;\n",
       "    }\n",
       "</style>\n",
       "<table border=\"1\" class=\"dataframe\">\n",
       "  <thead>\n",
       "    <tr style=\"text-align: right;\">\n",
       "      <th></th>\n",
       "      <th>FileName</th>\n",
       "      <th>PM Risk</th>\n",
       "    </tr>\n",
       "  </thead>\n",
       "  <tbody>\n",
       "    <tr>\n",
       "      <th>256</th>\n",
       "      <td>T0001.jpg</td>\n",
       "      <td>0.953847</td>\n",
       "    </tr>\n",
       "    <tr>\n",
       "      <th>293</th>\n",
       "      <td>T0002.jpg</td>\n",
       "      <td>0.068521</td>\n",
       "    </tr>\n",
       "    <tr>\n",
       "      <th>143</th>\n",
       "      <td>T0003.jpg</td>\n",
       "      <td>0.031756</td>\n",
       "    </tr>\n",
       "    <tr>\n",
       "      <th>97</th>\n",
       "      <td>T0004.jpg</td>\n",
       "      <td>0.978645</td>\n",
       "    </tr>\n",
       "    <tr>\n",
       "      <th>231</th>\n",
       "      <td>T0005.jpg</td>\n",
       "      <td>0.967379</td>\n",
       "    </tr>\n",
       "  </tbody>\n",
       "</table>\n",
       "</div>"
      ],
      "text/plain": [
       "      FileName   PM Risk\n",
       "256  T0001.jpg  0.953847\n",
       "293  T0002.jpg  0.068521\n",
       "143  T0003.jpg  0.031756\n",
       "97   T0004.jpg  0.978645\n",
       "231  T0005.jpg  0.967379"
      ]
     },
     "execution_count": 22,
     "metadata": {},
     "output_type": "execute_result"
    }
   ],
   "source": [
    "submission.head()"
   ]
  },
  {
   "cell_type": "markdown",
   "metadata": {
    "collapsed": false
   },
   "source": [
    "## 结果投票集成\n",
    "简单投票集成学习，这个可以提升效果，尽量选得分高的进行投票。\n",
    "\n",
    "在统计学和机器学习中，集成学习方法使用多种学习算法来获得比单独使用任何单独的学习算法更好的预测性能。\n",
    "\n",
    "使用不同超参数、不同的特征，不同的结构，运行多次模型可得到不同的预测结果。在这里我使用的是简单投票法，取PM Risk 平均值作为最终的预测结果。 预测出多个result后，进行投票，代码如下："
   ]
  },
  {
   "cell_type": "code",
   "execution_count": null,
   "metadata": {
    "collapsed": false
   },
   "outputs": [],
   "source": [
    "import numpy as np\r\n",
    "import blackhole.dataframe as pd\r\n",
    "df1=pd.read_csv('result0.99887.csv')\r\n",
    "df2=pd.read_csv('result0.99862.csv')\r\n",
    "df3=pd.read_csv('result0.99714.csv')\r\n",
    "df4=pd.read_csv('result0.9969100.csv')\r\n",
    "df5=pd.read_csv('result0.99689.csv')\r\n",
    "df6=pd.read_csv('result0.99628.csv')\r\n",
    "df7=pd.read_csv('result0.99643.csv')\r\n",
    "\r\n",
    "dfs=[df1,df2,df3,df4,df5,df6,df7]\r\n",
    "PM_Risk=[]\r\n",
    "File_Name=[]\r\n",
    "\r\n",
    "for i in range(len(df1)):\r\n",
    "    File_Name.append(dfs[0]['FileName'][i])\r\n",
    "    avg=(sum(np.array(dfs[x]['PM Risk'][i]) for x in range(len(dfs))))/len(dfs)\r\n",
    "  \r\n",
    "    \r\n",
    "    PM_Risk.append(avg)\r\n",
    "\r\n",
    "submission = pd.DataFrame(data={\r\n",
    "                            \"FileName\": File_Name,\r\n",
    "                            \"PM Risk\": PM_Risk\r\n",
    "                        })\r\n",
    "submission=submission.sort_values(by='FileName')\r\n",
    "submission.to_csv(\"resultx.csv\", index=False)\r\n",
    "    \r\n"
   ]
  },
  {
   "cell_type": "markdown",
   "metadata": {
    "collapsed": false
   },
   "source": [
    "# （4）比赛总结及改善方向：\n",
    "\n",
    "1、多试几个的预训练模型。\n",
    "\n",
    "2、使用 cosine annealing 的策略来动态调整学习率。\n",
    "\n",
    "3、使用soft_label软标签。\n",
    "\n",
    "4、使用数据增强能提分，但是用多了有时会起反作用，把 CenterCrop 去掉更容易提分，这个纯属个人感觉。\n",
    "\n",
    "5、以前一直用Accuracy评估模型，比赛后，学会了用Auc评估模型。\n",
    "\n",
    "6、在model.fit时用paddle.metric.Auc（）评估，loss降到一定值后就不降了，可能是我打开的方式不对。于是改成了训练时用Accuracy，评估时两个都用。\n",
    "\n",
    "7、及时保存，把save_freq设置成1，用验证集对准确率高的进行评估和预测。对Auc值高的进行load,然后改几个参数接着训练，这对提高Score很有帮助。\n",
    "\n",
    "8、以前一直认为使用较大的图片尺寸，可能效果更好。但是后来发现，不管的图片尺寸大还是小，只要准确率达到100%，Score就会成为1。\n",
    "\n",
    "9、投票方法能提高成绩，但是存在天花板。"
   ]
  },
  {
   "cell_type": "markdown",
   "metadata": {
    "collapsed": false
   },
   "source": [
    "# （5）飞桨使用体验+给其他选手学习飞桨的建议\n",
    "建议大家多参加百度AI Studio课程，多看别人写的AI Studio项目，也许会有灵感迸发，在比赛中取得更好的成绩。"
   ]
  },
  {
   "cell_type": "markdown",
   "metadata": {
    "collapsed": false
   },
   "source": [
    "# （6）One More Thing\n",
    "## 病理性近视预测相关论文\n",
    "\n",
    "1.[Pathological myopia classification with simultaneous lesion segmentation using deep learning](https://www.sciencedirect.com/science/article/pii/S0169260720317533)\n",
    "\n",
    "2.[Detection of Pathological Myopia and Optic Disc Segmentation with Deep Convolutional Neural Networks](https://ieeexplore.ieee.org/abstract/document/8929252/)"
   ]
  },
  {
   "cell_type": "markdown",
   "metadata": {
    "collapsed": false
   },
   "source": [
    "[ 我在AI Studio上获得钻石等级，点亮9个徽章，来互关呀~](https://aistudio.baidu.com/aistudio/personalcenter/thirdview/335435) "
   ]
  }
 ],
 "metadata": {
  "kernelspec": {
   "display_name": "PaddlePaddle 2.1.0 (Python 3.5)",
   "language": "python",
   "name": "py35-paddle1.2.0"
  },
  "language_info": {
   "codemirror_mode": {
    "name": "ipython",
    "version": 3
   },
   "file_extension": ".py",
   "mimetype": "text/x-python",
   "name": "python",
   "nbconvert_exporter": "python",
   "pygments_lexer": "ipython3",
   "version": "3.7.4"
  }
 },
 "nbformat": 4,
 "nbformat_minor": 1
}
